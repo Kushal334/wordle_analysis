{
 "cells": [
  {
   "cell_type": "code",
   "execution_count": 1,
   "id": "543fa696",
   "metadata": {},
   "outputs": [],
   "source": [
    "# import libraries\n",
    "\n",
    "from nltk.corpus import words\n",
    "import nltk\n",
    "from collections import defaultdict\n",
    "from tqdm import tqdm"
   ]
  },
  {
   "cell_type": "markdown",
   "id": "7ad96622",
   "metadata": {},
   "source": [
    "# Download Words with NLTK"
   ]
  },
  {
   "cell_type": "code",
   "execution_count": 2,
   "id": "d91fe9f8",
   "metadata": {},
   "outputs": [
    {
     "name": "stderr",
     "output_type": "stream",
     "text": [
      "[nltk_data] Downloading package words to\n",
      "[nltk_data]     /Users/rehanahmed/nltk_data...\n",
      "[nltk_data]   Package words is already up-to-date!\n"
     ]
    }
   ],
   "source": [
    "nltk.download('words') # download words\n",
    "\n",
    "word_list = words.words() # get list of words"
   ]
  },
  {
   "cell_type": "code",
   "execution_count": 3,
   "id": "67d9cac5",
   "metadata": {},
   "outputs": [
    {
     "name": "stdout",
     "output_type": "stream",
     "text": [
      "236736\n"
     ]
    }
   ],
   "source": [
    "print(len(word_list)) # Total Words"
   ]
  },
  {
   "cell_type": "markdown",
   "id": "d2b7da9d",
   "metadata": {},
   "source": [
    "# Get Words with 5 Letters and First Letter Lower"
   ]
  },
  {
   "cell_type": "code",
   "execution_count": 4,
   "id": "8dc9378a",
   "metadata": {},
   "outputs": [],
   "source": [
    "word_list = list(filter(lambda a:len(a)==5 and a[0].lower()==a[0],word_list))"
   ]
  },
  {
   "cell_type": "code",
   "execution_count": 5,
   "id": "6671d752",
   "metadata": {},
   "outputs": [
    {
     "name": "stderr",
     "output_type": "stream",
     "text": [
      "100%|███████████████████████████████████| 8689/8689 [00:00<00:00, 462873.02it/s]\n"
     ]
    }
   ],
   "source": [
    "# Get counts of each letter at each position\n",
    "\n",
    "letter_dict = defaultdict(int)\n",
    "\n",
    "for word in tqdm(word_list):\n",
    "    \n",
    "    for l in [l+str(i) for i,l in enumerate(word)]:\n",
    "        letter_dict[l]+=1\n",
    "    "
   ]
  },
  {
   "cell_type": "code",
   "execution_count": 6,
   "id": "b4f0f925",
   "metadata": {},
   "outputs": [],
   "source": [
    "# Sorted best counts of each letter at each position\n",
    "\n",
    "combine_dict = {}\n",
    "ans = []\n",
    "top_ans = []\n",
    "\n",
    "for i in range(0,5):\n",
    "    combine_dict[i] = {}\n",
    "    for key,value in letter_dict.items():\n",
    "        if str(i) in key:\n",
    "            combine_dict[i][key]=value\n",
    "    top_ans.extend(sorted(combine_dict[i].items(), key=lambda item: -item[1])[0:1])\n",
    "    ans.extend(sorted(combine_dict[i].items(), key=lambda item: -item[1]))"
   ]
  },
  {
   "cell_type": "markdown",
   "id": "4312c6e8",
   "metadata": {},
   "source": [
    "# Best Word"
   ]
  },
  {
   "cell_type": "code",
   "execution_count": 7,
   "id": "5ea26ec7",
   "metadata": {},
   "outputs": [
    {
     "name": "stdout",
     "output_type": "stream",
     "text": [
      "saaee\n"
     ]
    }
   ],
   "source": [
    "best_word = ''.join([i[0][0] for i in top_ans])\n",
    "print(best_word)"
   ]
  },
  {
   "cell_type": "markdown",
   "id": "f836c4d4",
   "metadata": {},
   "source": [
    "However, this word does not exist, so we need to find the nearest best word."
   ]
  },
  {
   "cell_type": "markdown",
   "id": "1554d4cb",
   "metadata": {},
   "source": [
    "## Using Levenshtein Distance to find the nearest Best Words"
   ]
  },
  {
   "cell_type": "code",
   "execution_count": 8,
   "id": "4fadaf07",
   "metadata": {},
   "outputs": [],
   "source": [
    "# Source : https://stackoverflow.com/questions/2460177/edit-distance-in-python\n",
    "\n",
    "def levenshteinDistance(s1):\n",
    "    s2 = 'saaee'\n",
    "    \n",
    "    if len(s1) > len(s2):\n",
    "        s1, s2 = s2, s1\n",
    "\n",
    "    distances = range(len(s1) + 1)\n",
    "    for i2, c2 in enumerate(s2):\n",
    "        distances_ = [i2+1]\n",
    "        for i1, c1 in enumerate(s1):\n",
    "            if c1 == c2:\n",
    "                distances_.append(distances[i1])\n",
    "            else:\n",
    "                distances_.append(1 + min((distances[i1], distances[i1 + 1], distances_[-1])))\n",
    "        distances = distances_\n",
    "    return distances[-1]"
   ]
  },
  {
   "cell_type": "code",
   "execution_count": 9,
   "id": "870a4d9d",
   "metadata": {},
   "outputs": [
    {
     "name": "stdout",
     "output_type": "stream",
     "text": [
      "2\n"
     ]
    }
   ],
   "source": [
    "scores = list(map(levenshteinDistance,word_list))\n",
    "print(min(scores))\n",
    "\n",
    "min_score = min(scores)"
   ]
  },
  {
   "cell_type": "markdown",
   "id": "d946eb56",
   "metadata": {},
   "source": [
    "## Best Score == 2"
   ]
  },
  {
   "cell_type": "code",
   "execution_count": 10,
   "id": "bcc592a4",
   "metadata": {},
   "outputs": [],
   "source": [
    "results = []\n",
    "for c,i in enumerate(scores):\n",
    "    if i ==min_score:\n",
    "        results.append(word_list[c])"
   ]
  },
  {
   "cell_type": "code",
   "execution_count": 11,
   "id": "2e55ff51",
   "metadata": {},
   "outputs": [
    {
     "name": "stdout",
     "output_type": "stream",
     "text": [
      "['gagee', 'galee', 'gazee', 'payee', 'razee', 'saber', 'sable', 'sadhe', 'safen', 'sahme', 'saker', 'salep', 'salle', 'salse', 'salve', 'samel', 'samen', 'sapek', 'saple', 'sauce', 'saute', 'sauve', 'saved', 'saver', 'sawed', 'sawer', 'sayer', 'sazen', 'scale', 'scape', 'scare', 'scase', 'scree', 'seave', 'shade', 'shake', 'shale', 'shame', 'shape', 'share', 'shave', 'shree', 'skate', 'slade', 'slake', 'slane', 'slape', 'slare', 'slate', 'slave', 'smaze', 'snake', 'snape', 'snare', 'soree', 'space', 'spade', 'spaer', 'spale', 'spane', 'spare', 'spate', 'spave', 'spree', 'stade', 'stage', 'stake', 'stale', 'stane', 'stare', 'state', 'stave', 'stree', 'suade', 'suave', 'swage', 'swale', 'swape', 'sware', 'sycee', 'scale', 'shade', 'shake', 'shame', 'snake', 'space', 'spade', 'stage']\n"
     ]
    }
   ],
   "source": [
    "print(results)"
   ]
  },
  {
   "cell_type": "markdown",
   "id": "435f6f2e",
   "metadata": {},
   "source": [
    "Still too many words"
   ]
  },
  {
   "cell_type": "markdown",
   "id": "334985d5",
   "metadata": {},
   "source": [
    "How about we add all the letter counts and get the word with the highest count?"
   ]
  },
  {
   "cell_type": "code",
   "execution_count": 12,
   "id": "7d45d3d2",
   "metadata": {},
   "outputs": [],
   "source": [
    "tot_scores = []\n",
    "for i in results:\n",
    "    sc = 0\n",
    "\n",
    "    for c,l in enumerate(i):\n",
    "        find = l+str(c)\n",
    "#         print(find)\n",
    "        for t in ans:\n",
    "            if find == t[0]:\n",
    "#                 print(t[1])\n",
    "                sc = sc+t[1]\n",
    "    tot_scores.append((i,sc))"
   ]
  },
  {
   "cell_type": "code",
   "execution_count": 13,
   "id": "8700afe8",
   "metadata": {},
   "outputs": [
    {
     "data": {
      "text/plain": [
       "('soree', 5704)"
      ]
     },
     "execution_count": 13,
     "metadata": {},
     "output_type": "execute_result"
    }
   ],
   "source": [
    "sorted(tot_scores,key=lambda a:a[1])[-1]"
   ]
  },
  {
   "cell_type": "markdown",
   "id": "9c2418d7",
   "metadata": {},
   "source": [
    "But as anyone who has played this game can tell you, starting with two of the same letters (**e**) is probably not a good idea. So how about we use the next best word without double words?"
   ]
  },
  {
   "cell_type": "code",
   "execution_count": 14,
   "id": "a71c9473",
   "metadata": {},
   "outputs": [
    {
     "data": {
      "text/plain": [
       "[('soree', 5704),\n",
       " ('shree', 5018),\n",
       " ('salle', 4934),\n",
       " ('salse', 4908),\n",
       " ('saute', 4886),\n",
       " ('galee', 4884),\n",
       " ('sauce', 4791),\n",
       " ('stree', 4770),\n",
       " ('saber', 4757),\n",
       " ('spree', 4717)]"
      ]
     },
     "execution_count": 14,
     "metadata": {},
     "output_type": "execute_result"
    }
   ],
   "source": [
    "sorted(tot_scores,key=lambda a:a[1])[::-1][0:10]"
   ]
  },
  {
   "cell_type": "code",
   "execution_count": 15,
   "id": "d7188e10",
   "metadata": {},
   "outputs": [
    {
     "data": {
      "text/plain": [
       "('saute', 4886)"
      ]
     },
     "execution_count": 15,
     "metadata": {},
     "output_type": "execute_result"
    }
   ],
   "source": [
    "sorted(tot_scores,key=lambda a:a[1])[::-1][4]"
   ]
  }
 ],
 "metadata": {
  "kernelspec": {
   "display_name": "Python [conda env:test] *",
   "language": "python",
   "name": "conda-env-test-py"
  },
  "language_info": {
   "codemirror_mode": {
    "name": "ipython",
    "version": 3
   },
   "file_extension": ".py",
   "mimetype": "text/x-python",
   "name": "python",
   "nbconvert_exporter": "python",
   "pygments_lexer": "ipython3",
   "version": "3.8.6"
  }
 },
 "nbformat": 4,
 "nbformat_minor": 5
}
